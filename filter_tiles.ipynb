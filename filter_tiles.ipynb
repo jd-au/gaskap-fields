{
 "cells": [
  {
   "cell_type": "code",
   "execution_count": 1,
   "metadata": {},
   "outputs": [],
   "source": [
    "from astropy import coordinates as coord\n",
    "from astropy import units as u\n",
    "from astropy.coordinates import Angle\n",
    "from gala.coordinates import MagellanicStreamNidever08\n",
    "import numpy as np\n",
    "import sys\n",
    "import pandas as pd\n",
    "import pyregion\n"
   ]
  },
  {
   "cell_type": "code",
   "execution_count": 52,
   "metadata": {},
   "outputs": [],
   "source": [
    "#regfileloc = 'GASKAP.reg'\n",
    "regfileloc = 'croppedtilefield_old.reg'\n",
    "importreg= pd.read_csv(regfileloc, delim_whitespace=True, header=None)\n",
    "regfile=importreg.to_numpy(dtype='str')\n"
   ]
  },
  {
   "cell_type": "code",
   "execution_count": 53,
   "metadata": {},
   "outputs": [
    {
     "data": {
      "text/plain": [
       "array([['j2000;polygon', '333.149154', '-49.639543', ..., '-44.255155',\n",
       "        '333.149154', '-49.639543'],\n",
       "       ['j2000;text', '333.338431', '-46.729577', ..., 'nan', 'nan',\n",
       "        'nan'],\n",
       "       ['j2000;polygon', '332.01433', '-55.005671', ..., '-49.651782',\n",
       "        '332.01433', '-55.005671'],\n",
       "       ...,\n",
       "       ['j2000;text', '8.836063000000003', '39.098351', ..., 'nan',\n",
       "        'nan', 'nan'],\n",
       "       ['j2000;polygon', '9.569075', '31.359847', ..., '36.73508',\n",
       "        '9.569075', '31.359847'],\n",
       "       ['j2000;text', '9.368447', '33.80018', ..., 'nan', 'nan', 'nan']],\n",
       "      dtype='<U19')"
      ]
     },
     "execution_count": 53,
     "metadata": {},
     "output_type": "execute_result"
    }
   ],
   "source": [
    "regfile"
   ]
  },
  {
   "cell_type": "code",
   "execution_count": 54,
   "metadata": {},
   "outputs": [
    {
     "data": {
      "text/html": [
       "<div>\n",
       "<style scoped>\n",
       "    .dataframe tbody tr th:only-of-type {\n",
       "        vertical-align: middle;\n",
       "    }\n",
       "\n",
       "    .dataframe tbody tr th {\n",
       "        vertical-align: top;\n",
       "    }\n",
       "\n",
       "    .dataframe thead th {\n",
       "        text-align: right;\n",
       "    }\n",
       "</style>\n",
       "<table border=\"1\" class=\"dataframe\">\n",
       "  <thead>\n",
       "    <tr style=\"text-align: right;\">\n",
       "      <th></th>\n",
       "      <th>min_l</th>\n",
       "      <th>num_l</th>\n",
       "      <th>max_l</th>\n",
       "      <th>min_b</th>\n",
       "      <th>max_b</th>\n",
       "      <th>num_b</th>\n",
       "    </tr>\n",
       "  </thead>\n",
       "  <tbody>\n",
       "    <tr>\n",
       "      <th>0</th>\n",
       "      <td>-15</td>\n",
       "      <td>1</td>\n",
       "      <td>-10</td>\n",
       "      <td>-10</td>\n",
       "      <td>-3</td>\n",
       "      <td>2.4</td>\n",
       "    </tr>\n",
       "    <tr>\n",
       "      <th>1</th>\n",
       "      <td>-10</td>\n",
       "      <td>2</td>\n",
       "      <td>-5</td>\n",
       "      <td>-8</td>\n",
       "      <td>-5</td>\n",
       "      <td>1.6</td>\n",
       "    </tr>\n",
       "  </tbody>\n",
       "</table>\n",
       "</div>"
      ],
      "text/plain": [
       "   min_l  num_l  max_l  min_b  max_b  num_b\n",
       "0    -15      1    -10    -10     -3    2.4\n",
       "1    -10      2     -5     -8     -5    1.6"
      ]
     },
     "execution_count": 54,
     "metadata": {},
     "output_type": "execute_result"
    }
   ],
   "source": [
    "tile_ranges = pd.read_csv('pilot_tile_range.csv')\n",
    "tile_ranges"
   ]
  },
  {
   "cell_type": "code",
   "execution_count": 55,
   "metadata": {},
   "outputs": [
    {
     "data": {
      "text/plain": [
       "(-10.0, -3.0)"
      ]
     },
     "execution_count": 55,
     "metadata": {},
     "output_type": "execute_result"
    }
   ],
   "source": [
    "def find_ms_b_range(tile_ranges, ms_l):\n",
    "    for row in tile_ranges:\n",
    "        if row[0] <= ms_l and row[2] >= ms_l:\n",
    "            #print (row[0], row[2], row[3], row[4])\n",
    "            return row[3], row[4]\n",
    "    return None\n",
    "        \n",
    "find_ms_b_range(tile_ranges.to_numpy(), -15)"
   ]
  },
  {
   "cell_type": "code",
   "execution_count": 56,
   "metadata": {},
   "outputs": [
    {
     "name": "stdout",
     "output_type": "stream",
     "text": [
      "tile is inside at L=-13.95 B=-8.97\n",
      "tile is inside at L=-13.57 B=-4.71\n",
      "tile is inside at L=-8.01 B=-5.24\n"
     ]
    }
   ],
   "source": [
    "np_tile_ranges = tile_ranges.to_numpy()\n",
    "clippedarray=np.zeros(11)\n",
    "#convert from gal to mag and check elements\n",
    "for i in range(0,len(regfile),2):\n",
    "    #load in coordinates as j2000, references one of the tile vertices i think,should change to centre where the text is placed\n",
    "    c = coord.FK5(ra=float(regfile[i+1,1])*u.deg, dec=float(regfile[i+1,2])*u.deg)\n",
    "    #convert to mag coords\n",
    "    ms = c.transform_to(MagellanicStreamNidever08)\n",
    "    # Find the appropriate range\n",
    "    ms_b_range = find_ms_b_range(np_tile_ranges, ms.L.value)\n",
    "    if ms_b_range and ms_b_range[0] <= ms.B.value <= ms_b_range[1]:\n",
    "        print (\"tile is inside at L={:.2f} B={:.2f}\".format(ms.L.value, ms.B.value))\n",
    "        clippedarray=np.vstack((clippedarray,regfile[i]))\n",
    "        clippedarray=np.vstack((clippedarray,regfile[i+1]))\n",
    "        clippedarray[-1,-5:] = \"\"\n",
    "\n",
    "# Remove the first, template row\n",
    "clippedarray=clippedarray[1:,]\n"
   ]
  },
  {
   "cell_type": "code",
   "execution_count": 57,
   "metadata": {},
   "outputs": [],
   "source": [
    "\n",
    "np.savetxt('pilottilefield_simple.reg',clippedarray,fmt='%s')\n",
    "np.savetxt('pilottilefield_notext_simple.reg',clippedarray[0::2],fmt='%s')"
   ]
  },
  {
   "cell_type": "code",
   "execution_count": 60,
   "metadata": {},
   "outputs": [
    {
     "data": {
      "text/plain": [
       "array([['j2000;polygon', '333.149154', '-49.639542999999996', ...,\n",
       "        '-44.255155', '333.149154', '-49.639542999999996'],\n",
       "       ['j2000;polygon', '332.01433', '-55.005671', ..., '-49.651782',\n",
       "        '332.01433', '-55.005671'],\n",
       "       ['j2000;polygon', '340.189707', '-54.44555', ..., '-49.047952',\n",
       "        '340.189707', '-54.44555'],\n",
       "       ...,\n",
       "       ['j2000;polygon', '119.166896', '-51.313959999999994', ...,\n",
       "        '-54.112127', '119.166896', '-51.313959999999994'],\n",
       "       ['j2000;polygon', '8.981391', '36.589022', ..., '41.976765',\n",
       "        '8.981391', '36.589022'],\n",
       "       ['j2000;polygon', '9.569075', '31.359847', ...,\n",
       "        '36.735079999999996', '9.569075', '31.359847']], dtype='<U32')"
      ]
     },
     "execution_count": 60,
     "metadata": {},
     "output_type": "execute_result"
    }
   ],
   "source": []
  },
  {
   "cell_type": "code",
   "execution_count": 15,
   "metadata": {},
   "outputs": [
    {
     "name": "stdout",
     "output_type": "stream",
     "text": [
      "Help on Shape in module pyregion.parser_helper object:\n",
      "\n",
      "class Shape(builtins.object)\n",
      " |  Shape.\n",
      " |  \n",
      " |  Parameters\n",
      " |  ----------\n",
      " |  shape_name : str\n",
      " |      Shape name\n",
      " |  shape_params : list\n",
      " |      List of parameters\n",
      " |  \n",
      " |  Examples\n",
      " |  --------\n",
      " |  >>> import pyregion\n",
      " |  >>> region_string = 'fk5;circle(290.96388,14.019167,843.31194\")'\n",
      " |  >>> shape_list = pyregion.parse(region_string)\n",
      " |  >>> shape = shape_list[0]\n",
      " |  >>> print(shape.__dict__)\n",
      " |  {'attr': ([], {}),\n",
      " |   'comment': None,\n",
      " |   'continued': None,\n",
      " |   'coord_format': 'fk5',\n",
      " |   'coord_list': [290.96388, 14.019167, 0.23425331666666666],\n",
      " |   'exclude': False,\n",
      " |   'name': 'circle',\n",
      " |   'params': [Number(290.96388), Number(14.019167), Ang(843.31194\")]}\n",
      " |  \n",
      " |  Methods defined here:\n",
      " |  \n",
      " |  __init__(self, shape_name, shape_params)\n",
      " |      Initialize self.  See help(type(self)) for accurate signature.\n",
      " |  \n",
      " |  __repr__(self)\n",
      " |      Return repr(self).\n",
      " |  \n",
      " |  set_exclude(self)\n",
      " |  \n",
      " |  ----------------------------------------------------------------------\n",
      " |  Data descriptors defined here:\n",
      " |  \n",
      " |  __dict__\n",
      " |      dictionary for instance variables (if defined)\n",
      " |  \n",
      " |  __weakref__\n",
      " |      list of weak references to the object (if defined)\n",
      " |  \n",
      " |  ----------------------------------------------------------------------\n",
      " |  Data and other attributes defined here:\n",
      " |  \n",
      " |  __slotnames__ = []\n",
      "\n"
     ]
    }
   ],
   "source": [
    "help(r[0])"
   ]
  },
  {
   "cell_type": "code",
   "execution_count": 24,
   "metadata": {},
   "outputs": [
    {
     "name": "stdout",
     "output_type": "stream",
     "text": [
      "<SkyCoord (ICRS): (ra, dec) in deg\n",
      "    (14.6885625, -72.56328611)> = <SkyCoord (MagellanicStreamNidever08): (L, B) in deg\n",
      "    (-15.58984577, -11.06831348)>\n",
      "<SkyCoord (ICRS): (ra, dec) in deg\n",
      "    (16.10255417, -72.70942222)> = <SkyCoord (MagellanicStreamNidever08): (L, B) in deg\n",
      "    (-15.27212961, -10.74880202)>\n",
      "diff is L=-0.31772, B=-0.31951, new pos = '0.680489,-2.319511'\n"
     ]
    }
   ],
   "source": [
    "c = coord.SkyCoord('00:58:45.255','-72:33:47.83', unit=(u.hourangle,u.deg))\n",
    "ms_old = c.transform_to(MagellanicStreamNidever08)\n",
    "print (\"{} = {}\".format(c, ms_old))\n",
    "c = coord.SkyCoord('01:04:24.613', '-72:42:33.92', unit=(u.hourangle,u.deg))\n",
    "ms_new = c.transform_to(MagellanicStreamNidever08)\n",
    "print (\"{} = {}\".format(c, ms_new))\n",
    "diff_l = ms_old.L.value - ms_new.L.value\n",
    "diff_b = ms_old.B.value - ms_new.B.value\n",
    "print (\"diff is L={:.5f}, B={:.5f}, new pos = '{:.6f},{:.6f}'\".format(diff_l, diff_b, 1+diff_b, -2+diff_b))"
   ]
  },
  {
   "cell_type": "code",
   "execution_count": 21,
   "metadata": {},
   "outputs": [
    {
     "name": "stderr",
     "output_type": "stream",
     "text": [
      "WARNING: AstropyDeprecationWarning: Passing a frame as a positional argument is now deprecated, use the frame= keyword argument instead. [astropy.coordinates.sky_coordinate]\n"
     ]
    },
    {
     "data": {
      "text/plain": [
       "'00h57m22.5329s -72d10m06.7132s'"
      ]
     },
     "execution_count": 21,
     "metadata": {},
     "output_type": "execute_result"
    }
   ],
   "source": [
    "cms = coord.SkyCoord(344, -11, MagellanicStreamNidever08, unit=u.deg)\n",
    "cms.transform_to(coord.FK5).to_string('hmsdms')"
   ]
  },
  {
   "cell_type": "code",
   "execution_count": null,
   "metadata": {},
   "outputs": [],
   "source": []
  }
 ],
 "metadata": {
  "kernelspec": {
   "display_name": "Python 3",
   "language": "python",
   "name": "python3"
  },
  "language_info": {
   "codemirror_mode": {
    "name": "ipython",
    "version": 3
   },
   "file_extension": ".py",
   "mimetype": "text/x-python",
   "name": "python",
   "nbconvert_exporter": "python",
   "pygments_lexer": "ipython3",
   "version": "3.6.8"
  }
 },
 "nbformat": 4,
 "nbformat_minor": 2
}
